{
 "cells": [
  {
   "cell_type": "code",
   "execution_count": 1,
   "metadata": {},
   "outputs": [],
   "source": [
    "# experiment.ipynb\n",
    "# setting up\n",
    "import ipywidgets as widgets\n",
    "from IPython.display import display\n",
    "import matplotlib.pyplot as plt\n",
    "import seaborn as sns\n",
    "import numpy as np"
   ]
  },
  {
   "cell_type": "markdown",
   "metadata": {},
   "source": [
    "In this notebook, we'll aim to make it possible to run the Mesa version of the ElectricityMarket model, but to then get outputs matching those in the source notebook.\n",
    "\n",
    "So, to outline:\n",
    "\n",
    "0. Get the model ready by feeding in params from our source notebook.\n",
    "1. Run the model (with any quality of life paramaterization inputs) from the first cell.\n",
    "2. Take the model outputs (which also could be accessed through the Mesa framework)\n",
    "3. Convert the mesa outputs to the vectors from the source notebook.\n",
    "4. Plot just as before.\n",
    "\n",
    "We will structure *this* notebook to mirror the source as best we can. ⚡️"
   ]
  },
  {
   "cell_type": "code",
   "execution_count": 2,
   "metadata": {},
   "outputs": [],
   "source": [
    "from mesa import Model # noqa\n",
    "from model import ElectricityMarket # noqa"
   ]
  },
  {
   "cell_type": "markdown",
   "metadata": {},
   "source": [
    "Okay! Mesa! Before we get rolling with parameters, let's talk about what we're going to do with the logic from the original notebook. To understand the plan, it's important to know about the Mesa Framework that it supplies a couple of key basic tools we can use: the [Model](https://mesa.readthedocs.io/latest/apis/model.html#module-mesa.model) class, and the [Agent](https://mesa.readthedocs.io/latest/apis/agent.html) class. The model is where we'll need to register and step through many of the equations of the notebook, while the agent objects will take the basic decisioning logic that executes each step.\n",
    "\n",
    "In the following code cell, we have a *synopsis* of the major functions from the model code in the `ElectricityAuctions` notebook. Uncommenting the cell may interfere with running this notebook."
   ]
  },
  {
   "cell_type": "code",
   "execution_count": null,
   "metadata": {},
   "outputs": [],
   "source": [
    "pass\n",
    "\n",
    "\"\"\"The logic from this block can ALL be found in the `model.py` file..\n",
    "\n",
    "define functions\n",
    "def find_capacities(prices, m, b):\n",
    "    return m * prices + b\n",
    "\n",
    "def create_expectations(n, capacities, costs):\n",
    "    # logic here\n",
    "    return(capacity_expectations, cost_expectations, expected_rankings)\n",
    "    \n",
    "def auction(N, bids, capacities):\n",
    "    # complicated logic here\n",
    "    return(quantities, last_price)\n",
    "\n",
    "def outcomes(mechanism, last_price, bids, quantities, costs):\n",
    "    if mechanism == 'uniform':\n",
    "        revenues = last_price * quantities  \n",
    "    else:\n",
    "        revenues = bids * quantities\n",
    "    profits = revenues - costs * quantities\n",
    "    return(revenues, profits)\n",
    "\n",
    "## The logic from this block can ALL be found in the `agents.py` file.\n",
    "\n",
    "def generate_bids(n, N, mechanism, capacity_expectations, cost_expectations, expected_rankings, padding, costs):\n",
    "    bids = np.empty(n)\n",
    "    for g in range(n):    \n",
    "       # complicated logic here\n",
    "    return(bids)\n",
    "\n",
    "###########################\n",
    "\n",
    "## and then we have these critical equations:\n",
    "costs = rng.uniform(min_cost, max_cost, n)\n",
    "capacities = find_capacities(costs, m, b)\n",
    "price_cap = max(costs) * cap_multiplier\n",
    "errors = (rng.uniform(min_error, max_error, n*n) / 100 * np.random.choice([-1,1],size=n*n)).reshape([n,n])\n",
    "padding = rng.uniform(min_padding, max_padding, n) / 100\n",
    "capacity_expectations, cost_expectations, expected_rankings = create_expectations(n, capacities, costs)\n",
    "\n",
    "these are in the `model.py` file.\n",
    "\n",
    "\n",
    "\"\"\"\n"
   ]
  },
  {
   "cell_type": "markdown",
   "metadata": {},
   "source": [
    "One important point: there is overlap between how the code from the source notebook executes and the standard functions of the Mesa model and agents objects. Wherever practical, we will stick to using the functionality provided in the source. One key difference is that our time and step-running logic will be delegated to Mesa fundamental functions.\n",
    "\n",
    "⚡️\n",
    "\n",
    "Let's first get ready by setting up a set of parameters to pass our Mesa Model. The Mesa Model object, among other things, natively takes keyword-arguments (or kwargs) at initialization time. But, of course, it can also have defaults. This means that we can set some parameters or all parameters in the cell below, and they will be passed to the underlying Mesa engine.\n",
    "\n",
    "Once we're done readying parameters, we can run the cell. `ElectricityMarket.run` will pass the parameters to the model in `model.py`, and it will run its steps. 1000 steps can take a few seconds!"
   ]
  },
  {
   "cell_type": "code",
   "execution_count": null,
   "metadata": {},
   "outputs": [],
   "source": [
    "# set parameters\n",
    "n = 5\n",
    "m = -5\n",
    "b = 1000\n",
    "steps = 1000\n",
    "min_cost = 20\n",
    "max_cost = 200\n",
    "min_error = 1\n",
    "max_error = 20\n",
    "min_padding = 50\n",
    "max_padding = 99\n",
    "cap_multiplier = 1.2\n",
    "\n",
    "params = {\n",
    "    'n': n,\n",
    "    'm': m,\n",
    "    'b': b,\n",
    "    'steps': steps,\n",
    "    'min_cost': min_cost,\n",
    "    'max_cost': max_cost,\n",
    "    'min_error': min_error,\n",
    "    'max_error': max_error,\n",
    "    'min_padding': min_padding,\n",
    "    'max_padding': max_padding,\n",
    "    'cap_multiplier': cap_multiplier\n",
    "}\n",
    "\n",
    "model = ElectricityMarket(**params) # this is our Mesa Model! We'll run it in a sec.\n",
    "\n",
    "# or, you can run the model with one param:\n",
    "# steps = 88888\n",
    "# model = ElectricityMarket.run(steps=steps)\n",
    "\n",
    "# or, you can just run the model with the defaults:\n",
    "# returns = ElectricityMarket.run()"
   ]
  },
  {
   "cell_type": "markdown",
   "metadata": {},
   "source": [
    "Okay, our model is set up. We are almost ready to run... but first, to integrate with the rest of the Mesa setup, we will replace this approach\n",
    "from the source model:\n",
    "\n",
    "```py\n",
    "mechanism = 'uniform'\n",
    "#mechanism = 'discriminatory'\n",
    "#mechanism = 'ownbid'\n",
    "```\n",
    "\n",
    "... with an array that allows us to run the model once for each mechanism:"
   ]
  },
  {
   "cell_type": "code",
   "execution_count": null,
   "metadata": {},
   "outputs": [],
   "source": [
    "mechanisms = ['uniform', 'discriminatory', 'ownbid']\n",
    "\n",
    "# note that steps and agents(n) are defined... but they may have been commented out above. \n",
    "# let's make sure we have them\n",
    "steps = steps if 'steps' in locals() else 1000\n",
    "n = n if 'n' in locals() else 5\n",
    "\n",
    "# the following code is almost straight from the source notebook,\n",
    "# but we modify it to work with each mechanism in the array.\n",
    "# # initialise arrays to store simulation results for each time step.\n",
    "RTO_costs_by_mechanism = {mechanism: np.empty(steps) for mechanism in mechanisms} # note that steps\n",
    "GenCo_profits_by_mechanism = {mechanism: np.empty([steps,n]) for mechanism in mechanisms} # and number of agents are defined in params"
   ]
  },
  {
   "cell_type": "markdown",
   "metadata": {},
   "source": [
    "Okay, great. Now we are ready to run the model. The original code block from the notebook looks like:\n",
    "\n",
    "```py\n",
    "# for timesteps specified by steps, run a series of auctions. \n",
    "# each time step the RTO request varies.\n",
    "for s in range(steps): \n",
    "    N = rng.uniform(int(np.mean(capacities)), int(np.sum(capacities)))\n",
    "    bids = generate_bids(n, N, mechanism, capacity_expectations, cost_expectations, expected_rankings, padding, costs)\n",
    "    quantities, last_price = auction(N, bids, capacities)\n",
    "    revenues, profits = outcomes(mechanism, last_price, bids, quantities, costs)\n",
    "    RTO_costs[s] = sum(revenues)\n",
    "    GenCo_profits[s] = profits\n",
    "```\n",
    "\n",
    "This logic will go into the `model.py` code's `_run_model()_` method of the `ElectricityMarket` class extending the Mesa `Model`.\n",
    "So, we need only run the model, although we will wrap it in a loop so that we can get returns for each of our mechanisms."
   ]
  },
  {
   "cell_type": "code",
   "execution_count": null,
   "metadata": {},
   "outputs": [],
   "source": [
    "# the definition for our ElectricityMarket model specifies a return of:\n",
    "# {\n",
    "#     'RTO_costs': Array of RTO costs for each step\n",
    "#     'GenCo_profits': 2D array of profits for each GenCo at each step\n",
    "#     'mechanism': Mechanism used for this run\n",
    "# }\n",
    "\n",
    "\n",
    "for mechanism in mechanisms:\n",
    "    model.mechanism = mechanism\n",
    "    results = model.run_model(mechanism)\n",
    "\n",
    "    # now we can move those results into our vectors, very similarly to the source notebook.\n",
    "\n",
    "    RTO_costs_by_mechanism[mechanism] = results['RTO_costs']\n",
    "    GenCo_profits_by_mechanism[mechanism] = results['GenCo_profits']\n",
    "\n",
    "    # and we might like to make a gesture to our audience:\n",
    "    print(f\"Mechanism {mechanism} complete.\")\n",
    "    print(f\"Mean RTO cost: {round(np.mean(RTO_costs_by_mechanism[mechanism]), 2)}\")\n",
    "    print(f\"Mean GenCo profit: {round(np.mean(np.sum(GenCo_profits_by_mechanism[mechanism], axis=1)), 2)}\")\n",
    "\n"
   ]
  },
  {
   "cell_type": "markdown",
   "metadata": {},
   "source": [
    "Hopefully, that printed a nice list of pretty statistics. Now, looking back at our agenda, we are more or less through the entire stage of setting up\n",
    "our vectors. We are almost ready to plot.\n",
    "\n",
    "⚡️\n",
    "\n",
    "Before we do that, let's try a little bit of a detour, since we should have arrays for all three mechanisms. We can add some interactivity\n",
    "to our plotting, by introducing some dropdowns... These simple controls are python notebook widgets (`ipywidgets`) and they should work,\n",
    "when installed, in many environments. Let's see how this works!"
   ]
  },
  {
   "cell_type": "code",
   "execution_count": null,
   "metadata": {},
   "outputs": [],
   "source": [
    "mechanism_one_dropdown = widgets.Dropdown(\n",
    "    options=mechanisms,\n",
    "    value='uniform',\n",
    "    description='Mechanism 1:',\n",
    "    style={'description_width': 'initial'}\n",
    ")\n",
    "\n",
    "mechanism_two_dropdown = widgets.Dropdown(\n",
    "    options=mechanisms,\n",
    "    value='discriminatory',\n",
    "    description='Mechanism 2:',\n",
    "    style={'description_width': 'initial'}\n",
    ")\n",
    "\n",
    "display(widgets.VBox([mechanism_one_dropdown, mechanism_two_dropdown]))"
   ]
  },
  {
   "cell_type": "markdown",
   "metadata": {},
   "source": [
    "You should see the dropdowns above so that you can choose a mechanism to compare to some other mechanism in the plots delow. We have defaults, so it's not a huge deal if you\n",
    "can't get the controls to work in your notebook."
   ]
  },
  {
   "cell_type": "code",
   "execution_count": null,
   "metadata": {},
   "outputs": [],
   "source": [
    "selected_mechanism_one = mechanism_one_dropdown.value if mechanism_one_dropdown.value is not None else 'uniform'\n",
    "selected_mechanism_two = mechanism_two_dropdown.value if mechanism_two_dropdown.value is not None else 'discriminatory'\n",
    "\n",
    "print(f\"selected_mechanism_one: {selected_mechanism_one}\")\n",
    "print(f\"selected_mechanism_two: {selected_mechanism_two}\")"
   ]
  },
  {
   "cell_type": "markdown",
   "metadata": {},
   "source": [
    "And now let's go ahead and build out plots, with just a subtle tweak to handle the names from above."
   ]
  },
  {
   "cell_type": "code",
   "execution_count": null,
   "metadata": {},
   "outputs": [],
   "source": [
    "\n",
    "# plot profit and cost values for the various auction price mechanisms\n",
    "fig, ax = plt.subplots(1, 2, sharex=False, sharey=False, figsize=(12, 6))\n",
    "\n",
    "ax[0].plot(range(steps), np.cumsum(np.sum(GenCo_profits_by_mechanism[selected_mechanism_one], axis=1)) / np.arange(1, steps + 1), c = 'darkred', label = selected_mechanism_one)\n",
    "ax[0].plot(np.cumsum(np.sum(GenCo_profits_by_mechanism[selected_mechanism_two], axis=1)) / np.arange(1, steps + 1), c = 'hotpink', label = selected_mechanism_two)\n",
    "ax[0].set_xlabel('steps')\n",
    "ax[0].set_ylabel('cumulative mean of GenCo profits')\n",
    "ax[0].legend(frameon = False)\n",
    "ax[1].plot(range(steps), np.cumsum(RTO_costs_by_mechanism[selected_mechanism_one]) / np.arange(1, steps + 1), c = 'cadetblue', label = selected_mechanism_one)\n",
    "ax[1].plot(np.cumsum(RTO_costs_by_mechanism[selected_mechanism_two]) / np.arange(1, steps + 1), c = 'skyblue', label = selected_mechanism_two)\n",
    "ax[1].set_xlabel('steps')\n",
    "ax[1].set_ylabel('cumulative mean of RTO costs')\n",
    "ax[1].legend(frameon = False)\n",
    "\n",
    "#ax[0].annotate('uniform', xy=(600, 63000))\n",
    "#ax[0].annotate('discriminatory', xy=(600, 50500))\n",
    "#ax[1].annotate('uniform', xy=(700, 160000))\n",
    "#ax[1].annotate('discriminatory', xy=(700, 148000))\n",
    "ax[1].axhline(y = mean_cost_uniform, linestyle = 'dotted', c = 'grey')\n",
    "ax[1].axhline(y = mean_cost_discriminatory, linestyle = 'dotted', c = 'grey')\n",
    "ax[0].axhline(y = mean_profit_uniform, linestyle = 'dotted', c = 'grey')\n",
    "ax[0].axhline(y = mean_profit_discriminatory, linestyle = 'dotted', c = 'grey')\n",
    "\n",
    "fig.suptitle('discriminatory vs uniform pricing')\n",
    "sns.despine(left = True, bottom = True)"
   ]
  }
 ],
 "metadata": {
  "kernelspec": {
   "display_name": ".venv",
   "language": "python",
   "name": "python3"
  },
  "language_info": {
   "codemirror_mode": {
    "name": "ipython",
    "version": 3
   },
   "file_extension": ".py",
   "mimetype": "text/x-python",
   "name": "python",
   "nbconvert_exporter": "python",
   "pygments_lexer": "ipython3",
   "version": "3.12.8"
  }
 },
 "nbformat": 4,
 "nbformat_minor": 2
}
