{
 "cells": [
  {
   "cell_type": "code",
   "execution_count": 1,
   "metadata": {},
   "outputs": [],
   "source": [
    "# experiment.ipynb\n",
    "# setting up\n",
    "import ipywidgets as widgets\n",
    "from IPython.display import display, clear_output, HTML\n",
    "import matplotlib.pyplot as plt\n",
    "import matplotlib.animation as animation\n",
    "import seaborn as sns\n",
    "import numpy as np"
   ]
  },
  {
   "cell_type": "markdown",
   "metadata": {},
   "source": [
    "In this notebook, we'll aim to make it possible to run the Mesa version of the ElectricityMarket model, but to then get outputs matching those in the source notebook.\n",
    "\n",
    "So, to outline:\n",
    "\n",
    "0. Get the model ready by feeding in params from our source notebook.\n",
    "1. Run the model (with any quality of life paramaterization inputs) from the first cell.\n",
    "2. Take the model outputs (which also could be accessed through the Mesa framework)\n",
    "3. Convert the mesa outputs to the vectors from the source notebook.\n",
    "4. Plot just as before.\n",
    "\n",
    "We will structure *this* notebook to mirror the source as best we can. ⚡️"
   ]
  },
  {
   "cell_type": "code",
   "execution_count": 2,
   "metadata": {},
   "outputs": [],
   "source": [
    "from mesa import Model # noqa\n",
    "from model import ElectricityMarket # noqa"
   ]
  },
  {
   "cell_type": "markdown",
   "metadata": {},
   "source": [
    "Okay! Mesa! Before we get rolling with parameters, let's talk about what we're going to do with the logic from the original notebook. To understand the plan, it's important to know about the Mesa Framework that it supplies a couple of key basic tools we can use: the [Model](https://mesa.readthedocs.io/latest/apis/model.html#module-mesa.model) class, and the [Agent](https://mesa.readthedocs.io/latest/apis/agent.html) class. The model is where we'll need to register and step through many of the equations of the notebook, while the agent objects will take the basic decisioning logic that executes each step.\n",
    "\n",
    "In the following code cell, we have a *synopsis* of the major functions from the model code in the `ElectricityAuctions` notebook. Uncommenting the cell may interfere with running this notebook."
   ]
  },
  {
   "cell_type": "code",
   "execution_count": 3,
   "metadata": {},
   "outputs": [
    {
     "data": {
      "text/plain": [
       "\"The logic from this block can ALL be found in the `model.py` file..\\n\\ndefine functions\\ndef find_capacities(prices, m, b):\\n    return m * prices + b\\n\\ndef create_expectations(n, capacities, costs):\\n    # logic here\\n    return(capacity_expectations, cost_expectations, expected_rankings)\\n    \\ndef auction(N, bids, capacities):\\n    # complicated logic here\\n    return(quantities, last_price)\\n\\ndef outcomes(mechanism, last_price, bids, quantities, costs):\\n    if mechanism == 'uniform':\\n        revenues = last_price * quantities  \\n    else:\\n        revenues = bids * quantities\\n    profits = revenues - costs * quantities\\n    return(revenues, profits)\\n\\n## The logic from this block can ALL be found in the `agents.py` file.\\n\\ndef generate_bids(n, N, mechanism, capacity_expectations, cost_expectations, expected_rankings, padding, costs):\\n    bids = np.empty(n)\\n    for g in range(n):    \\n       # complicated logic here\\n    return(bids)\\n\\n###########################\\n\\n## and then we have these critical equations:\\ncosts = rng.uniform(min_cost, max_cost, n)\\ncapacities = find_capacities(costs, m, b)\\nprice_cap = max(costs) * cap_multiplier\\nerrors = (rng.uniform(min_error, max_error, n*n) / 100 * np.random.choice([-1,1],size=n*n)).reshape([n,n])\\npadding = rng.uniform(min_padding, max_padding, n) / 100\\ncapacity_expectations, cost_expectations, expected_rankings = create_expectations(n, capacities, costs)\\n\\nthese are in the `model.py` file.\\n\\n\\n\""
      ]
     },
     "execution_count": 3,
     "metadata": {},
     "output_type": "execute_result"
    }
   ],
   "source": [
    "pass\n",
    "\n",
    "\"\"\"The logic from this block can ALL be found in the `model.py` file..\n",
    "\n",
    "define functions\n",
    "def find_capacities(prices, m, b):\n",
    "    return m * prices + b\n",
    "\n",
    "def create_expectations(n, capacities, costs):\n",
    "    # logic here\n",
    "    return(capacity_expectations, cost_expectations, expected_rankings)\n",
    "    \n",
    "def auction(N, bids, capacities):\n",
    "    # complicated logic here\n",
    "    return(quantities, last_price)\n",
    "\n",
    "def outcomes(mechanism, last_price, bids, quantities, costs):\n",
    "    if mechanism == 'uniform':\n",
    "        revenues = last_price * quantities  \n",
    "    else:\n",
    "        revenues = bids * quantities\n",
    "    profits = revenues - costs * quantities\n",
    "    return(revenues, profits)\n",
    "\n",
    "## The logic from this block can ALL be found in the `agents.py` file.\n",
    "\n",
    "def generate_bids(n, N, mechanism, capacity_expectations, cost_expectations, expected_rankings, padding, costs):\n",
    "    bids = np.empty(n)\n",
    "    for g in range(n):    \n",
    "       # complicated logic here\n",
    "    return(bids)\n",
    "\n",
    "###########################\n",
    "\n",
    "## and then we have these critical equations:\n",
    "costs = rng.uniform(min_cost, max_cost, n)\n",
    "capacities = find_capacities(costs, m, b)\n",
    "price_cap = max(costs) * cap_multiplier\n",
    "errors = (rng.uniform(min_error, max_error, n*n) / 100 * np.random.choice([-1,1],size=n*n)).reshape([n,n])\n",
    "padding = rng.uniform(min_padding, max_padding, n) / 100\n",
    "capacity_expectations, cost_expectations, expected_rankings = create_expectations(n, capacities, costs)\n",
    "\n",
    "these are in the `model.py` file.\n",
    "\n",
    "\n",
    "\"\"\"\n"
   ]
  },
  {
   "cell_type": "markdown",
   "metadata": {},
   "source": [
    "One important point: there is overlap between how the code from the source notebook executes and the standard functions of the Mesa model and agents objects. Wherever practical, we will stick to using the functionality provided in the source. One key difference is that our time and step-running logic will be delegated to Mesa fundamental functions.\n",
    "\n",
    "⚡️\n",
    "\n",
    "Let's first get ready by setting up a set of parameters to pass our Mesa Model. The Mesa Model object, among other things, natively takes keyword-arguments (or kwargs) at initialization time. But, of course, it can also have defaults. This means that we can set some parameters or all parameters in the cell below, and they will be passed to the underlying Mesa engine.\n",
    "\n",
    "Once we're done readying parameters, we can run the cell. `ElectricityMarket.run` will pass the parameters to the model in `model.py`, and it will run its steps. 1000 steps can take a few seconds!"
   ]
  },
  {
   "cell_type": "code",
   "execution_count": 4,
   "metadata": {},
   "outputs": [],
   "source": [
    "# set parameters\n",
    "n = 5\n",
    "m = -5\n",
    "b = 1000\n",
    "steps = 1000\n",
    "min_cost = 20\n",
    "max_cost = 200\n",
    "min_error = 1\n",
    "max_error = 20\n",
    "min_padding = 50\n",
    "max_padding = 99\n",
    "cap_multiplier = 1.2\n",
    "\n",
    "params = {\n",
    "    'n': n,\n",
    "    'm': m,\n",
    "    'b': b,\n",
    "    'steps': steps,\n",
    "    'min_cost': min_cost,\n",
    "    'max_cost': max_cost,\n",
    "    'min_error': min_error,\n",
    "    'max_error': max_error,\n",
    "    'min_padding': min_padding,\n",
    "    'max_padding': max_padding,\n",
    "    'cap_multiplier': cap_multiplier\n",
    "}\n",
    "\n",
    "model = ElectricityMarket(**params) # this is our Mesa Model! We'll run it in a sec.\n",
    "\n",
    "# or, you can run the model with one param:\n",
    "# steps = 88888\n",
    "# model = ElectricityMarket.run(steps=steps)\n",
    "\n",
    "# or, you can just run the model with the defaults:\n",
    "# returns = ElectricityMarket.run()"
   ]
  },
  {
   "cell_type": "markdown",
   "metadata": {},
   "source": [
    "Okay, our model is set up. We are almost ready to run... but first, to integrate with the rest of the Mesa setup, we will replace this approach\n",
    "from the source model:\n",
    "\n",
    "```py\n",
    "mechanism = 'uniform'\n",
    "#mechanism = 'discriminatory'\n",
    "#mechanism = 'ownbid'\n",
    "```\n",
    "\n",
    "... with an array that allows us to run the model once for each mechanism:"
   ]
  },
  {
   "cell_type": "code",
   "execution_count": 5,
   "metadata": {},
   "outputs": [],
   "source": [
    "mechanisms = ['uniform', 'discriminatory', 'ownbid']\n",
    "\n",
    "# note that steps and agents(n) are defined... but they may have been commented out above. \n",
    "# let's make sure we have them\n",
    "steps = steps if 'steps' in locals() else 1000\n",
    "n = n if 'n' in locals() else 5\n",
    "\n",
    "# the following code is almost straight from the source notebook,\n",
    "# but we modify it to work with each mechanism in the array.\n",
    "# # initialise arrays to store simulation results for each time step.\n",
    "RTO_costs_by_mechanism = {mechanism: np.empty(steps) for mechanism in mechanisms} # note that steps\n",
    "GenCo_profits_by_mechanism = {mechanism: np.empty([steps,n]) for mechanism in mechanisms} # and number of agents are defined in params"
   ]
  },
  {
   "cell_type": "markdown",
   "metadata": {},
   "source": [
    "Okay, great. Now we are ready to run the model. The original code block for running the model from the notebook looks like:\n",
    "\n",
    "```py\n",
    "# for timesteps specified by steps, run a series of auctions. \n",
    "# each time step the RTO request varies.\n",
    "for s in range(steps): \n",
    "    N = rng.uniform(int(np.mean(capacities)), int(np.sum(capacities)))\n",
    "    bids = generate_bids(n, N, mechanism, capacity_expectations, cost_expectations, expected_rankings, padding, costs)\n",
    "    quantities, last_price = auction(N, bids, capacities)\n",
    "    revenues, profits = outcomes(mechanism, last_price, bids, quantities, costs)\n",
    "    RTO_costs[s] = sum(revenues)\n",
    "    GenCo_profits[s] = profits\n",
    "```\n",
    "\n",
    "This logic will go into the `model.py` code's `_run_model()_` method of the `ElectricityMarket` class extending the Mesa `Model`.\n",
    "So, we need only run the model, although we will wrap it in a loop so that we can get returns for each of our mechanisms."
   ]
  },
  {
   "cell_type": "code",
   "execution_count": 6,
   "metadata": {},
   "outputs": [
    {
     "name": "stdout",
     "output_type": "stream",
     "text": [
      "Time: 0\n",
      "Time: 100\n",
      "Time: 200\n",
      "Time: 300\n",
      "Time: 400\n",
      "Time: 500\n",
      "Time: 600\n",
      "Time: 700\n",
      "Time: 800\n",
      "Time: 900\n",
      "Mechanism uniform complete.\n",
      "Mean RTO cost: 236782.11\n",
      "Mean GenCo profit: 141227.79\n",
      "Time: 0\n",
      "Time: 100\n",
      "Time: 200\n",
      "Time: 300\n",
      "Time: 400\n",
      "Time: 500\n",
      "Time: 600\n",
      "Time: 700\n",
      "Time: 800\n",
      "Time: 900\n",
      "Mechanism discriminatory complete.\n",
      "Mean RTO cost: 228645.12\n",
      "Mean GenCo profit: 108157.51\n",
      "Time: 0\n",
      "Time: 100\n",
      "Time: 200\n",
      "Time: 300\n",
      "Time: 400\n",
      "Time: 500\n",
      "Time: 600\n",
      "Time: 700\n",
      "Time: 800\n",
      "Time: 900\n",
      "Mechanism ownbid complete.\n",
      "Mean RTO cost: 108028.5\n",
      "Mean GenCo profit: 0.0\n"
     ]
    }
   ],
   "source": [
    "# the definition for our ElectricityMarket model specifies a return of:\n",
    "# {\n",
    "#     'RTO_costs': Array of RTO costs for each step\n",
    "#     'GenCo_profits': 2D array of profits for each GenCo at each step\n",
    "#     'mechanism': Mechanism used for this run\n",
    "#     'agent_outcomes': List of outcomes for each agent, including step, revenue, profit, and whether they won the auction\n",
    "# }\n",
    "\n",
    "outcomes_by_mechanism = {}\n",
    "\n",
    "for mechanism in mechanisms:\n",
    "    model.mechanism = mechanism\n",
    "    results = model.run_model(mechanism)\n",
    "\n",
    "    # now we can move those results into our vectors, very similarly to the source notebook.\n",
    "\n",
    "    RTO_costs_by_mechanism[mechanism] = results['RTO_costs']\n",
    "    GenCo_profits_by_mechanism[mechanism] = results['GenCo_profits']\n",
    "\n",
    "    # and we might like to make a gesture to our audience:\n",
    "    print(f\"Mechanism {mechanism} complete.\")\n",
    "    print(f\"Mean RTO cost: {round(np.mean(RTO_costs_by_mechanism[mechanism]), 2)}\")\n",
    "    print(f\"Mean GenCo profit: {round(np.mean(np.sum(GenCo_profits_by_mechanism[mechanism], axis=1)), 2)}\")\n",
    "\n",
    "    # let's also save the agent outcomes for each mechanism\n",
    "    outcomes_by_mechanism[mechanism] = results['agent_outcomes']\n",
    "\n",
    "    # create a fresh model instance for the next mechanism\n",
    "    model = ElectricityMarket(**params)\n",
    "\n"
   ]
  },
  {
   "cell_type": "markdown",
   "metadata": {},
   "source": [
    "Hopefully, that printed a nice list of pretty statistics. Now, looking back at our agenda, we are more or less through the entire stage of setting up\n",
    "our vectors. We are almost ready to plot.\n",
    "\n",
    "⚡️"
   ]
  },
  {
   "cell_type": "markdown",
   "metadata": {},
   "source": [
    "And now let's go ahead and build out plots, with just a subtle tweak. Since we have all three mechanisms ready to go, we should be able to shuffle between them in our plot viewer. We just need to do a little organizing up front..."
   ]
  },
  {
   "cell_type": "code",
   "execution_count": 7,
   "metadata": {},
   "outputs": [
    {
     "data": {
      "application/vnd.jupyter.widget-view+json": {
       "model_id": "f4a41c7e61b84483a10c572b6098cb36",
       "version_major": 2,
       "version_minor": 0
      },
      "text/plain": [
       "Output()"
      ]
     },
     "metadata": {},
     "output_type": "display_data"
    },
    {
     "data": {
      "application/vnd.jupyter.widget-view+json": {
       "model_id": "f0e19b5ad89342e9949948789beb72d9",
       "version_major": 2,
       "version_minor": 0
      },
      "text/plain": [
       "HBox(children=(Dropdown(description='Mechanism 1:', options=('uniform', 'discriminatory', 'ownbid'), style=Des…"
      ]
     },
     "metadata": {},
     "output_type": "display_data"
    }
   ],
   "source": [
    "selected_mechanism_one = 'uniform'\n",
    "selected_mechanism_two = 'discriminatory'\n",
    "\n",
    "plot_output = widgets.Output()\n",
    "\n",
    "def update_plots(selected_mechanism_one, selected_mechanism_two):\n",
    "    display_mechanism_one = selected_mechanism_one\n",
    "    display_mechanism_two = selected_mechanism_two\n",
    "\n",
    "    mean_cost_mechanism_one = np.mean(RTO_costs_by_mechanism[display_mechanism_one])\n",
    "    mean_cost_mechanism_two = np.mean(RTO_costs_by_mechanism[display_mechanism_two])\n",
    "\n",
    "    mean_profit_mechanism_one = np.mean(np.sum(GenCo_profits_by_mechanism[display_mechanism_one], axis=1))\n",
    "    mean_profit_mechanism_two = np.mean(np.sum(GenCo_profits_by_mechanism[display_mechanism_two], axis=1))\n",
    "\n",
    "    # plot profit and cost values for the various auction price mechanisms\n",
    "    with plot_output:\n",
    "        clear_output(wait=True)\n",
    "        fig, ax = plt.subplots(1, 2, sharex=False, sharey=False, figsize=(12, 6))\n",
    "\n",
    "        ax[0].plot(range(steps), np.cumsum(np.sum(GenCo_profits_by_mechanism[display_mechanism_one], axis=1)) / np.arange(1, steps + 1), c = 'darkred', label = display_mechanism_one)\n",
    "        ax[0].plot(np.cumsum(np.sum(GenCo_profits_by_mechanism[display_mechanism_two], axis=1)) / np.arange(1, steps + 1), c = 'hotpink', label = display_mechanism_two)\n",
    "        ax[0].set_xlabel('steps')\n",
    "        ax[0].set_ylabel('cumulative mean of GenCo profits')\n",
    "        ax[0].legend(frameon = False)\n",
    "        ax[1].plot(range(steps), np.cumsum(RTO_costs_by_mechanism[display_mechanism_one]) / np.arange(1, steps + 1), c = 'cadetblue', label = display_mechanism_one)\n",
    "        ax[1].plot(np.cumsum(RTO_costs_by_mechanism[display_mechanism_two]) / np.arange(1, steps + 1), c = 'skyblue', label = display_mechanism_two)\n",
    "        ax[1].set_xlabel('steps')\n",
    "        ax[1].set_ylabel('cumulative mean of RTO costs')\n",
    "        ax[1].legend(frameon = False)\n",
    "\n",
    "        #ax[0].annotate('uniform', xy=(600, 63000))\n",
    "        #ax[0].annotate('discriminatory', xy=(600, 50500))\n",
    "        #ax[1].annotate('uniform', xy=(700, 160000))\n",
    "        #ax[1].annotate('discriminatory', xy=(700, 148000))\n",
    "        ax[1].axhline(y = mean_cost_mechanism_one, linestyle = 'dotted', c = 'grey')\n",
    "        ax[1].axhline(y = mean_cost_mechanism_two, linestyle = 'dotted', c = 'grey')\n",
    "        ax[0].axhline(y = mean_profit_mechanism_one, linestyle = 'dotted', c = 'grey')\n",
    "        ax[0].axhline(y = mean_profit_mechanism_two, linestyle = 'dotted', c = 'grey')\n",
    "\n",
    "        fig.suptitle('discriminatory vs uniform pricing')\n",
    "        sns.despine(left = True, bottom = True)\n",
    "        plt.show()\n",
    "\n",
    "# add dropdowns\n",
    "mechanism_one_dropdown = widgets.Dropdown(\n",
    "    options=mechanisms,\n",
    "    value=selected_mechanism_one,\n",
    "    description='Mechanism 1:',\n",
    "    style={'description_width': 'initial'}\n",
    ")\n",
    "\n",
    "mechanism_two_dropdown = widgets.Dropdown(\n",
    "    options=mechanisms,\n",
    "    value=selected_mechanism_two,\n",
    "    description='Mechanism 2:',\n",
    "    style={'description_width': 'initial'}\n",
    ")\n",
    "\n",
    "# Define the callback for dropdown changes\n",
    "def on_mechanism_change(change):\n",
    "    update_plots(\n",
    "        selected_mechanism_one=mechanism_one_dropdown.value,\n",
    "        selected_mechanism_two=mechanism_two_dropdown.value\n",
    "    )\n",
    "\n",
    "# Register callbacks\n",
    "mechanism_one_dropdown.observe(on_mechanism_change, names='value')\n",
    "mechanism_two_dropdown.observe(on_mechanism_change, names='value')\n",
    "\n",
    "# Initial plot\n",
    "update_plots(selected_mechanism_one, selected_mechanism_two)\n",
    "\n",
    "# Show controls below plot, and shade the HBox slightly to highlight it\n",
    "controls_box = widgets.HBox(\n",
    "    [mechanism_one_dropdown, mechanism_two_dropdown],\n",
    "    layout=widgets.Layout(\n",
    "        background='blue',\n",
    "        border='1px solid black',\n",
    "        padding='10px'\n",
    "    )\n",
    ")\n",
    "display(plot_output, controls_box)"
   ]
  },
  {
   "cell_type": "markdown",
   "metadata": {},
   "source": [
    "And then, finally, because we have our Mesa model embedded, we now also have a record of individual agent behavior from that model. We can use that record to help us elucidate (illuminate? make clearer? something) the way in which the individual agents are operating---both in our version of the Electricity Auction, and the one from the source notebook as well."
   ]
  },
  {
   "cell_type": "code",
   "execution_count": 8,
   "metadata": {},
   "outputs": [
    {
     "data": {
      "application/vnd.jupyter.widget-view+json": {
       "model_id": "62f65057ea51455f9728726836c92190",
       "version_major": 2,
       "version_minor": 0
      },
      "text/plain": [
       "Output()"
      ]
     },
     "metadata": {},
     "output_type": "display_data"
    },
    {
     "data": {
      "application/vnd.jupyter.widget-view+json": {
       "model_id": "ce2d7a5932ba4b659bfa041fd40dc841",
       "version_major": 2,
       "version_minor": 0
      },
      "text/plain": [
       "HBox(children=(Dropdown(description='Mechanism:', options=('uniform', 'discriminatory', 'ownbid'), style=Descr…"
      ]
     },
     "metadata": {},
     "output_type": "display_data"
    },
    {
     "data": {
      "image/png": "[encoded data removed]",
      "text/plain": [
       "<Figure size 1000x600 with 1 Axes>"
      ]
     },
     "metadata": {},
     "output_type": "display_data"
    }
   ],
   "source": [
    "\n",
    "agent_history_output = widgets.Output()\n",
    "history_mechanism_dropdown_selected = 'uniform'\n",
    "\n",
    "def plot_agent_history(mechanism):\n",
    "    \"\"\"Create an animated vertical bar chart of agent profits\"\"\"\n",
    "    with agent_history_output:\n",
    "        clear_output(wait=True)\n",
    "        \n",
    "        # Create figure for animation\n",
    "        fig, ax = plt.subplots(figsize=(10, 6))\n",
    "        \n",
    "        def update(frame):\n",
    "            ax.clear()\n",
    "            # For each agent, compute cumulative profit up to frame\n",
    "            profits = []\n",
    "            for agent_outcome in outcomes_by_mechanism[mechanism]:\n",
    "                # Convert np.float64 to regular float\n",
    "                cumulative_profit = float(sum(float(outcome['profit']) \n",
    "                                    for outcome in agent_outcome[:frame]))\n",
    "                profits.append(cumulative_profit)\n",
    "            \n",
    "            # Create vertical bar chart\n",
    "            colors = plt.cm.viridis(np.linspace(0, 1, len(profits)))\n",
    "            ax.bar(range(len(profits)), profits, color=colors)\n",
    "            \n",
    "            # Customize appearance\n",
    "            ax.set_xticks(range(len(profits)))\n",
    "            ax.set_xticklabels([f'Agent {i}' for i in range(len(profits))])\n",
    "            ax.set_xlabel('Agent')\n",
    "            ax.set_ylabel('Cumulative Profit')\n",
    "            ax.set_title(f'{mechanism.capitalize()} Pricing: Cumulative Profits\\nStep {frame}')\n",
    "            \n",
    "            # Format y-axis with comma separator for thousands\n",
    "            ax.yaxis.set_major_formatter(plt.FuncFormatter(lambda x, p: format(int(x), ',')))\n",
    "            \n",
    "            # Rotate labels for better readability if needed\n",
    "            plt.xticks(rotation=0)\n",
    "        \n",
    "        # Ensure animation object remains in scope\n",
    "        global agent_history_anim\n",
    "        agent_history_anim = animation.FuncAnimation(\n",
    "            fig,\n",
    "            update,\n",
    "            frames=range(1, steps, 10),  # update every 10 steps\n",
    "            interval=100,\n",
    "            repeat=False\n",
    "        )\n",
    "        \n",
    "        # Display animation as HTML\n",
    "        display(HTML(agent_history_anim.to_jshtml()))\n",
    "\n",
    "# Create controls\n",
    "history_mechanism_dropdown = widgets.Dropdown(\n",
    "    options=mechanisms,\n",
    "    value=history_mechanism_dropdown_selected,\n",
    "    description='Mechanism:',\n",
    "    style={'description_width': 'initial'}\n",
    ")\n",
    "\n",
    "history_button = widgets.Button(\n",
    "    description='Show Agent History',\n",
    "    button_style='info'\n",
    ")\n",
    "\n",
    "def on_history_button_click(b):\n",
    "    plot_agent_history(history_mechanism_dropdown.value)\n",
    "\n",
    "history_button.on_click(on_history_button_click)\n",
    "\n",
    "#Auto-run with default mechanism\n",
    "plot_agent_history(history_mechanism_dropdown.value)\n",
    "\n",
    "# Display output and controls\n",
    "display(agent_history_output, widgets.HBox([history_mechanism_dropdown, history_button]))"
   ]
  }
 ],
 "metadata": {
  "kernelspec": {
   "display_name": ".venv",
   "language": "python",
   "name": "python3"
  },
  "language_info": {
   "codemirror_mode": {
    "name": "ipython",
    "version": 3
   },
   "file_extension": ".py",
   "mimetype": "text/x-python",
   "name": "python",
   "nbconvert_exporter": "python",
   "pygments_lexer": "ipython3",
   "version": "3.12.8"
  }
 },
 "nbformat": 4,
 "nbformat_minor": 2
}
